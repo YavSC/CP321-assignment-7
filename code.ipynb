{
 "cells": [
  {
   "cell_type": "code",
   "execution_count": 19,
   "metadata": {},
   "outputs": [],
   "source": [
    "import dash\n",
    "from dash import html, dcc, Output, Input\n",
    "import plotly.express as px\n",
    "import pandas as pd"
   ]
  },
  {
   "cell_type": "code",
   "execution_count": null,
   "metadata": {},
   "outputs": [],
   "source": [
    "#1 FIFA World cup winners and runnerups dataset\n",
    "data = pd.DataFrame({\n",
    "    \"winners\": [\"Uruguay\", \"Italy\", \"Italy\", \"Uruguay\", \"Germany\", \"Brazil\", \"Brazil\", \"England\", \"Brazil\", \"Germany\", \"Argentina\", \"Italy\", \"Argentina\", \"Germany\", \"Brazil\", \"France\", \"Brazil\", \"Italy\", \"Spain\", \"Germany\", \"France\", \"Argentina\"],\n",
    "    \"runnerups\": [\"Argentina\", \"Czech Replublic\", \"Hungary\", \"Brazil\", \"Hungary\", \"Sweden\", \"Czech Replublic\", \"Germany\", \"Italy\", \"Netherlands\", \"Netherlands\", \"Germany\", \"Germany\", \"Argentina\", \"Italy\", \"Brazil\", \"Germany\", \"France\", \"Netherlands\", \"Argentina\", \"Croatia\", \"France\"],\n",
    "    \"year\": [1930, 1934, 1938, 1950, 1954, 1958, 1962, 1966, 1970, 1974, 1978, 1982, 1986, 1990, 1994, 1998, 2002, 2006, 2010, 2014, 2018, 2022],\n",
    "})\n",
    "dataUnique = pd.DataFrame({\n",
    "    \"uniqueWinners\": [\"Brazil\", \"Germany\", \"Italy\", \"Argentina\", \"France\", \"Uruguay\", \"England\", \"Spain\"],\n",
    "    \"totalWins\": [5, 4, 4, 3, 2, 2, 1, 1]\n",
    "})\n",
    "\n",
    "app = dash.Dash()\n",
    "app.layout = html.Div([\n",
    "    html.H1(\"FIFA World Cup Statistics Dashboard\"),\n",
    "    dcc.RadioItems(options=[\"All Winners\", \"By Year:\"], value=\"All Winners\", id=\"options\"),\n",
    "    dcc.Dropdown(\n",
    "        id=\"year\",\n",
    "        value=1930,\n",
    "        options = data.year,\n",
    "        clearable = False,\n",
    "        style={\"width\": '200px'}\n",
    "    ),\n",
    "    dcc.Graph(id=\"graph\")\n",
    "], style = {'background-color': 'white'})\n",
    "\n",
    "@app.callback(\n",
    "    Output(component_id=\"graph\", component_property=\"figure\"),\n",
    "    Input(component_id=\"options\", component_property=\"value\"),\n",
    "    Input(component_id=\"year\", component_property=\"value\")\n",
    ")\n",
    "\n",
    "def updateGraph(option, year):\n",
    "    if option == \"All Winners\":\n",
    "        fig = px.choropleth(\n",
    "            dataUnique,\n",
    "            locations=\"uniqueWinners\",\n",
    "            locationmode=\"country names\",\n",
    "            color=\"totalWins\",\n",
    "            color_continuous_scale=\"Viridis\",\n",
    "            scope=\"world\",\n",
    "            title=\"All FIFA World Cup Winners\"\n",
    "        )\n",
    "    else:\n",
    "        x = 0\n",
    "        for i in data.year:\n",
    "            if i == year:\n",
    "                break\n",
    "            else:\n",
    "                x += 1\n",
    "\n",
    "        fig = px.choropleth(\n",
    "            locations=[data.winners.iloc[x], data.runnerups.iloc[x]],\n",
    "            locationmode=\"country names\",\n",
    "            color=[\"Winner\", \"Runnerup\"],\n",
    "            scope=\"world\",\n",
    "            title=f\"Winner and Runnerup for FIFA World Cup {year}\"\n",
    "        )\n",
    "    return fig\n",
    "\n",
    "app.run(debug=True)\n"
   ]
  }
 ],
 "metadata": {
  "kernelspec": {
   "display_name": "Python 3",
   "language": "python",
   "name": "python3"
  },
  "language_info": {
   "codemirror_mode": {
    "name": "ipython",
    "version": 3
   },
   "file_extension": ".py",
   "mimetype": "text/x-python",
   "name": "python",
   "nbconvert_exporter": "python",
   "pygments_lexer": "ipython3",
   "version": "3.10.2"
  }
 },
 "nbformat": 4,
 "nbformat_minor": 2
}
